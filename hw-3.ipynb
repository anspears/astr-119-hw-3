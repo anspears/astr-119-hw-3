{
 "cells": [
  {
   "cell_type": "code",
   "execution_count": null,
   "metadata": {},
   "outputs": [],
   "source": [
    "#import numpy and matplotlib\n",
    "%matplotlib inline\n",
    "import numpy as np\n",
    "import matplotlib.pyplot as plt"
   ]
  },
  {
   "cell_type": "code",
   "execution_count": null,
   "metadata": {},
   "outputs": [],
   "source": [
    "#create the array\n",
    "x=np.linspace(0,2*np.pi, 1000)\n",
    "\n",
    "#input the functions for the single plot\n",
    "y=5.5*np.cos(2*x) +5.5\n",
    "z=0.02*np.exp(x)\n",
    "w=0.25*np.square(x) +0.1*np.sin(10*x)"
   ]
  },
  {
   "cell_type": "code",
   "execution_count": null,
   "metadata": {},
   "outputs": [],
   "source": [
    "#adjust the size of the plot\n",
    "fig=plt.figure(figsize=(10,10))\n",
    "\n",
    "#plot and label the equations\n",
    "plt.plot(x, y, color=\"red\", label='y= 5.5cos(2x) +5.5')\n",
    "plt.plot(x, z, color=\"green\", label='z= (0.02)e^x')\n",
    "plt.plot(x, w, color=\"blue\", label='w= (0.25)x^2 +0.1sin(10x)')\n",
    "\n",
    "#label the x and y axes\n",
    "plt.xlabel('Time in ASTR 119')\n",
    "plt.ylabel('Measures of Awesomeness')\n",
    "\n",
    "#limit the boundaries of the plot and add legend\n",
    "plt.xlim([0,2*np.pi])\n",
    "plt.ylim([-1,10])\n",
    "plt.legend(loc=0, frameon=True)\n",
    "\n",
    "plt.show()"
   ]
  },
  {
   "cell_type": "code",
   "execution_count": null,
   "metadata": {},
   "outputs": [],
   "source": []
  }
 ],
 "metadata": {
  "kernelspec": {
   "display_name": "Python 3",
   "language": "python",
   "name": "python3"
  },
  "language_info": {
   "codemirror_mode": {
    "name": "ipython",
    "version": 3
   },
   "file_extension": ".py",
   "mimetype": "text/x-python",
   "name": "python",
   "nbconvert_exporter": "python",
   "pygments_lexer": "ipython3",
   "version": "3.8.5"
  }
 },
 "nbformat": 4,
 "nbformat_minor": 4
}
